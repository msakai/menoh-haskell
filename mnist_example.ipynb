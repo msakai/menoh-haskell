{
 "cells": [
  {
   "cell_type": "markdown",
   "metadata": {},
   "source": [
    "# MNIST example for Menoh Haskell "
   ]
  },
  {
   "cell_type": "code",
   "execution_count": 1,
   "metadata": {},
   "outputs": [],
   "source": [
    "{-# LANGUAGE ScopedTypeVariables #-}\n",
    "import Control.Applicative\n",
    "import Control.Monad\n",
    "import System.FilePath\n",
    "import Text.Printf\n",
    "import Menoh"
   ]
  },
  {
   "cell_type": "code",
   "execution_count": 2,
   "metadata": {},
   "outputs": [
    {
     "data": {
      "text/plain": [
       "Version {versionBranch = [1,0,2], versionTags = []}"
      ]
     },
     "metadata": {},
     "output_type": "display_data"
    }
   ],
   "source": [
    "Menoh.version"
   ]
  },
  {
   "cell_type": "code",
   "execution_count": 3,
   "metadata": {},
   "outputs": [
    {
     "data": {
      "text/plain": [
       "Version {versionBranch = [0,2,0], versionTags = []}"
      ]
     },
     "metadata": {},
     "output_type": "display_data"
    }
   ],
   "source": [
    "Menoh.bindingVersion"
   ]
  },
  {
   "cell_type": "code",
   "execution_count": 4,
   "metadata": {},
   "outputs": [],
   "source": [
    "dataDir = \"data\""
   ]
  },
  {
   "cell_type": "markdown",
   "metadata": {},
   "source": [
    "##  Step 1: Prepare input for inference"
   ]
  },
  {
   "cell_type": "code",
   "execution_count": 5,
   "metadata": {},
   "outputs": [],
   "source": [
    "import qualified Codec.Picture as Picture\n",
    "import qualified Codec.Picture.Types as Picture"
   ]
  },
  {
   "cell_type": "code",
   "execution_count": 6,
   "metadata": {},
   "outputs": [
    {
     "data": {
      "text/plain": []
     },
     "metadata": {},
     "output_type": "display_data"
    }
   ],
   "source": [
    "images <- forM [0..9] $ \\i -> do\n",
    "  let fname :: String\n",
    "      fname = printf \"%d.png\" i\n",
    "  ret <- Picture.readImage $ dataDir </> fname\n",
    "  case ret of\n",
    "    Left e -> error e\n",
    "    Right img -> return (Picture.extractLumaPlane $ Picture.convertRGB8 img, i, fname)"
   ]
  },
  {
   "cell_type": "code",
   "execution_count": 7,
   "metadata": {},
   "outputs": [
    {
     "data": {
      "image/png": "[encoded data removed]"
     },
     "metadata": {},
     "output_type": "display_data"
    },
    {
     "data": {
      "image/png": "[encoded data removed]"
     },
     "metadata": {},
     "output_type": "display_data"
    },
    {
     "data": {
      "image/png": "[encoded data removed]"
     },
     "metadata": {},
     "output_type": "display_data"
    },
    {
     "data": {
      "image/png": "[encoded data removed]"
     },
     "metadata": {},
     "output_type": "display_data"
    },
    {
     "data": {
      "image/png": "[encoded data removed]"
     },
     "metadata": {},
     "output_type": "display_data"
    },
    {
     "data": {
      "image/png": "[encoded data removed]"
     },
     "metadata": {},
     "output_type": "display_data"
    },
    {
     "data": {
      "image/png": "[encoded data removed]"
     },
     "metadata": {},
     "output_type": "display_data"
    },
    {
     "data": {
      "image/png": "[encoded data removed]"
     },
     "metadata": {},
     "output_type": "display_data"
    },
    {
     "data": {
      "image/png": "[encoded data removed]"
     },
     "metadata": {},
     "output_type": "display_data"
    },
    {
     "data": {
      "image/png": "[encoded data removed]"
     },
     "metadata": {},
     "output_type": "display_data"
    }
   ],
   "source": [
    "[img | (img, _, _) <- images]"
   ]
  },
  {
   "cell_type": "markdown",
   "metadata": {},
   "source": [
    "## Step 2: Loading ONNX model"
   ]
  },
  {
   "cell_type": "code",
   "execution_count": 8,
   "metadata": {},
   "outputs": [],
   "source": [
    "batch_size  = length images\n",
    "channel_num = 1\n",
    "height = 28\n",
    "width  = 28\n",
    "category_num = 10\n",
    "\n",
    "input_dims, output_dims :: Dims\n",
    "input_dims  = [batch_size, channel_num, height, width]\n",
    "output_dims = [batch_size, category_num]\n",
    "\n",
    "-- Aliases to onnx's node input and output tensor name\n",
    "mnist_in_name  = \"139900320569040\"\n",
    "mnist_out_name = \"139898462888656\""
   ]
  },
  {
   "cell_type": "code",
   "execution_count": 9,
   "metadata": {},
   "outputs": [],
   "source": [
    "-- Load ONNX model data\n",
    "model_data <- makeModelDataFromONNXFile (dataDir </> \"mnist.onnx\")"
   ]
  },
  {
   "cell_type": "code",
   "execution_count": 10,
   "metadata": {},
   "outputs": [],
   "source": [
    "-- Specify inputs and outputs\n",
    "vpt <- makeVariableProfileTable\n",
    "         [(mnist_in_name, DTypeFloat, input_dims)]\n",
    "         [mnist_out_name]\n",
    "         model_data\n",
    "optimizeModelData model_data vpt"
   ]
  },
  {
   "cell_type": "code",
   "execution_count": 11,
   "metadata": {},
   "outputs": [],
   "source": [
    "-- Construct computation primitive list and memories\n",
    "model <- makeModel vpt model_data \"mkldnn\""
   ]
  },
  {
   "cell_type": "markdown",
   "metadata": {},
   "source": [
    "## Step 3: Run inference"
   ]
  },
  {
   "cell_type": "code",
   "execution_count": 12,
   "metadata": {},
   "outputs": [],
   "source": [
    "import Data.Word\n",
    "import qualified Data.Vector.Generic as VG\n",
    "import qualified Data.Vector.Storable as VS\n",
    "\n",
    "-- Copy input image data to model's input array\n",
    "writeBuffer model mnist_in_name [VG.map fromIntegral (Picture.imageData img) :: VS.Vector Float | (img,_,_) <- images]\n",
    "\n",
    "-- Run inference\n",
    "run model\n",
    "\n",
    "-- Get output\n",
    "(vs :: [VS.Vector Float]) <- readBuffer model mnist_out_name"
   ]
  },
  {
   "cell_type": "markdown",
   "metadata": {},
   "source": [
    "## Step 4: Examine the results"
   ]
  },
  {
   "cell_type": "code",
   "execution_count": 13,
   "metadata": {},
   "outputs": [],
   "source": [
    "softmax :: (Real a, Floating a, VG.Vector v a) => v a -> v a\n",
    "softmax v | VG.null v = VG.empty\n",
    "softmax v = VG.map (/ s) v'\n",
    "  where\n",
    "    m = VG.maximum v\n",
    "    v' = VG.map (\\x -> exp (x - m)) v\n",
    "    s = VG.sum v'"
   ]
  },
  {
   "cell_type": "code",
   "execution_count": 14,
   "metadata": {},
   "outputs": [
    {
     "data": {
      "text/plain": [
       "0.png\n",
       "Expected: 0 Guessed: 0\n",
       "Scores: [(0,9777.892),(1,-7585.3193),(2,-2358.066),(3,-6089.8984),(4,-6311.9727),(5,-6329.25),(6,-2478.122),(7,-4269.2573),(8,-5181.277),(9,-2872.3535)]\n",
       "Probabilities: [(0,1.0),(1,0.0),(2,0.0),(3,0.0),(4,0.0),(5,0.0),(6,0.0),(7,0.0),(8,0.0),(9,0.0)]\n",
       "\n",
       "1.png\n",
       "Expected: 1 Guessed: 1\n",
       "Scores: [(0,-2165.809),(1,4201.37),(2,-1893.1384),(3,-7467.487),(4,-1335.353),(5,-4800.9795),(6,-416.61957),(7,-2426.936),(8,-503.85828),(9,-5068.9653)]\n",
       "Probabilities: [(0,0.0),(1,1.0),(2,0.0),(3,0.0),(4,0.0),(5,0.0),(6,0.0),(7,0.0),(8,0.0),(9,0.0)]\n",
       "\n",
       "2.png\n",
       "Expected: 2 Guessed: 2\n",
       "Scores: [(0,-6348.131),(1,-337.71472),(2,7276.1235),(3,-1548.1252),(4,-4145.504),(5,-6463.499),(6,-3721.0723),(7,-1077.4471),(8,-3267.8303),(9,-6660.838)]\n",
       "Probabilities: [(0,0.0),(1,0.0),(2,1.0),(3,0.0),(4,0.0),(5,0.0),(6,0.0),(7,0.0),(8,0.0),(9,0.0)]\n",
       "\n",
       "3.png\n",
       "Expected: 3 Guessed: 3\n",
       "Scores: [(0,-6894.149),(1,-2907.7124),(2,-1893.7008),(3,7371.175),(4,-8884.441),(5,-4217.8105),(6,-8523.427),(7,-4278.061),(8,-1147.6962),(9,-2374.1099)]\n",
       "Probabilities: [(0,0.0),(1,0.0),(2,0.0),(3,1.0),(4,0.0),(5,0.0),(6,0.0),(7,0.0),(8,0.0),(9,0.0)]\n",
       "\n",
       "4.png\n",
       "Expected: 4 Guessed: 4\n",
       "Scores: [(0,-4422.2188),(1,-1456.4163),(2,-4136.614),(3,-2221.086),(4,3840.482),(5,-3867.4666),(6,-71.5983),(7,-2693.855),(8,-2997.8684),(9,-4552.251)]\n",
       "Probabilities: [(0,0.0),(1,0.0),(2,0.0),(3,0.0),(4,1.0),(5,0.0),(6,0.0),(7,0.0),(8,0.0),(9,0.0)]\n",
       "\n",
       "5.png\n",
       "Expected: 5 Guessed: 5\n",
       "Scores: [(0,-7696.7534),(1,-1373.3462),(2,-6049.2095),(3,-311.19458),(4,-5299.1133),(5,5255.896),(6,-1519.8872),(7,-2771.51),(8,-2157.697),(9,-1522.519)]\n",
       "Probabilities: [(0,0.0),(1,0.0),(2,0.0),(3,0.0),(4,0.0),(5,1.0),(6,0.0),(7,0.0),(8,0.0),(9,0.0)]\n",
       "\n",
       "6.png\n",
       "Expected: 6 Guessed: 6\n",
       "Scores: [(0,-1738.4187),(1,-2735.6375),(2,-3410.437),(3,-3023.2148),(4,-2893.8752),(5,-354.15915),(6,3736.5344),(7,-4364.4053),(8,-287.73703),(9,-3295.0278)]\n",
       "Probabilities: [(0,0.0),(1,0.0),(2,0.0),(3,0.0),(4,0.0),(5,0.0),(6,1.0),(7,0.0),(8,0.0),(9,0.0)]\n",
       "\n",
       "7.png\n",
       "Expected: 7 Guessed: 7\n",
       "Scores: [(0,-2490.2102),(1,-631.0392),(2,1605.6711),(3,-832.4991),(4,-4712.144),(5,-6243.2437),(6,-5990.4595),(7,4322.048),(8,-4437.4653),(9,-2763.0308)]\n",
       "Probabilities: [(0,0.0),(1,0.0),(2,0.0),(3,0.0),(4,0.0),(5,0.0),(6,0.0),(7,1.0),(8,0.0),(9,0.0)]\n",
       "\n",
       "8.png\n",
       "Expected: 8 Guessed: 8\n",
       "Scores: [(0,-1720.1462),(1,-1791.0916),(2,-1960.5614),(3,17.458065),(4,-4540.445),(5,-2249.1724),(6,-2721.0393),(7,-4319.779),(8,3329.3308),(9,-2291.6396)]\n",
       "Probabilities: [(0,0.0),(1,0.0),(2,0.0),(3,0.0),(4,0.0),(5,0.0),(6,0.0),(7,0.0),(8,1.0),(9,0.0)]\n",
       "\n",
       "9.png\n",
       "Expected: 9 Guessed: 9\n",
       "Scores: [(0,-3192.5137),(1,-2531.5234),(2,-2891.6475),(3,-388.6603),(4,-1259.5007),(5,-921.98096),(6,-3483.3315),(7,1143.936),(8,-2964.6362),(9,1423.8708)]\n",
       "Probabilities: [(0,0.0),(1,0.0),(2,0.0),(3,0.0),(4,0.0),(5,0.0),(6,0.0),(7,0.0),(8,0.0),(9,1.0)]"
      ]
     },
     "metadata": {},
     "output_type": "display_data"
    }
   ],
   "source": [
    "forM_ (zip images vs) $ \\((img,expected,fname), scores) -> do\n",
    "  let guessed = VG.maxIndex scores\n",
    "  putStrLn fname\n",
    "  printf \"Expected: %d Guessed: %d\\n\" expected guessed\n",
    "  putStrLn $ \"Scores: \" ++ show (zip [0..] (VG.toList scores))\n",
    "  putStrLn $ \"Probabilities: \" ++ show (zip [0..] (VG.toList (softmax scores)))\n",
    "  putStrLn \"\""
   ]
  }
 ],
 "metadata": {
  "kernelspec": {
   "display_name": "Haskell",
   "language": "haskell",
   "name": "haskell"
  },
  "language_info": {
   "codemirror_mode": "ihaskell",
   "file_extension": ".hs",
   "name": "haskell",
   "pygments_lexer": "Haskell",
   "version": "8.2.2"
  }
 },
 "nbformat": 4,
 "nbformat_minor": 2
}
